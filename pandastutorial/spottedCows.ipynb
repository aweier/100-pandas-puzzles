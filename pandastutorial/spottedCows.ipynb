{
 "cells": [
  {
   "cell_type": "code",
   "execution_count": 8,
   "metadata": {},
   "outputs": [
    {
     "name": "stdout",
     "output_type": "stream",
     "text": [
      "    Index           endTime                      Artist  \\\n",
      "22     22  2022-09-05 15:26                    Lil Baby   \n",
      "23     23  2022-09-05 15:28                      DaBaby   \n",
      "24     24  2022-09-05 15:31                      Offset   \n",
      "25     25  2022-09-05 15:34  YoungBoy Never Broke Again   \n",
      "26     26  2022-09-05 15:37                  Gucci Mane   \n",
      "27     27  2022-09-05 15:39                   Lil Tecca   \n",
      "28     28  2022-09-05 15:41                    Lil Durk   \n",
      "29     29  2022-09-05 15:44                  Nardo Wick   \n",
      "30     30  2022-09-05 15:46                       Quavo   \n",
      "31     31  2022-09-05 15:50                    Rod Wave   \n",
      "\n",
      "                                Track  Duration  \n",
      "22                              Detox      1557  \n",
      "23                           WAITRESS    132018  \n",
      "24          CODE (feat. Moneybagg Yo)    192427  \n",
      "25   Home Ain't Home (feat. Rod Wave)    141166  \n",
      "26                    Dissin the Dead    228922  \n",
      "27                            Treesha    105693  \n",
      "28  Hear It Back (feat. Moneybagg Yo)    134907  \n",
      "29                     Dah Dah DahDah    151776  \n",
      "30           HOTEL LOBBY (Unc & Phew)    142657  \n",
      "31         Yungen (feat. Jack Harlow)    226115  \n"
     ]
    }
   ],
   "source": [
    "import pandas as pd\n",
    "#Importing the pandas library to work with dataframes\n",
    "\n",
    "#Reading in Json Files to pd dataframe\n",
    "df = pd.read_json('StreamingHistory0.json')\n",
    "\n",
    "df.reset_index(inplace=True)\n",
    "#Resetting the index to make it easier to work with, this operation adds a new index column and modifies...\n",
    "#The original dataframe without creating a new one.\n",
    "\n",
    "df.rename(columns={'index': 'Index'}, inplace=True)\n",
    "#Renaming the newly created index column to 'Index' for clarity\n",
    "\n",
    "df = df.rename(columns={'endtime' : 'timeEnded','artistName': 'Artist', 'trackName': 'Track', 'msPlayed': 'Duration'})\n",
    "#Renaming the columns to make it easier to read and understand\n",
    "\n",
    "df = df[~((df['Artist'] == 'Unknown Artist') & (df['Track'] == 'Unknown Track'))]\n",
    "#Removing rows where the artist and track are unknown, the ~ symbol is used to negate the condition\n",
    "#so rows that do not meet the condition are kept.\n",
    "\n",
    "pd.set_option('display.max_colwidth', 100)\n",
    "#Setting the maximum column width to 100 to make it easier to read the data\n",
    "print(df.head(10))\n",
    "#Printing the first 10 rows of the dataframe to see the data"
   ]
  },
  {
   "cell_type": "code",
   "execution_count": 10,
   "metadata": {},
   "outputs": [
    {
     "name": "stdout",
     "output_type": "stream",
     "text": [
      "Artist\n",
      "Zach Bryan                       162480431\n",
      "Jason Isbell                      78288106\n",
      "Morgan Wallen                     43633966\n",
      "Eminem                            43325520\n",
      "Jason Isbell and the 400 Unit     36601313\n",
      "                                   ...    \n",
      "Gordon Lightfoot                   2023379\n",
      "Lupe Fiasco                        1986352\n",
      "Bob Dylan                          1923025\n",
      "Barry Gibb                         1900527\n",
      "Method Man                         1890361\n",
      "Name: Duration, Length: 100, dtype: int64\n"
     ]
    }
   ],
   "source": [
    "# Calculate the total duration for each artist\n",
    "artist_durations = df.groupby('Artist')['Duration'].sum()\n",
    "\n",
    "#top 10 artists\n",
    "top_10_artists = artist_durations.sort_values(ascending=False).head(10)\n",
    "print(top_10_artists)"
   ]
  },
  {
   "cell_type": "code",
   "execution_count": 11,
   "metadata": {},
   "outputs": [
    {
     "name": "stdout",
     "output_type": "stream",
     "text": [
      "Artist\n",
      "Zach Bryan                       162480431\n",
      "Jason Isbell                      78288106\n",
      "Morgan Wallen                     43633966\n",
      "Eminem                            43325520\n",
      "Jason Isbell and the 400 Unit     36601313\n",
      "Glen Campbell                     24883597\n",
      "Hank Williams, Jr.                24265528\n",
      "Jimmy Buffett                     21103990\n",
      "The White Stripes                 19268186\n",
      "Tyler Childers                    18486320\n",
      "Name: Duration, dtype: int64\n"
     ]
    }
   ],
   "source": [
    "# Calculate the total duration for each artist\n",
    "artist_durations = df.groupby('Artist')['Duration'].sum()\n",
    "\n",
    "# Find the top 10 artists with the longest total durations\n",
    "top_10_artists = artist_durations.nlargest(10)\n",
    "\n",
    "print(top_10_artists)"
   ]
  },
  {
   "cell_type": "code",
   "execution_count": 5,
   "metadata": {},
   "outputs": [
    {
     "name": "stdout",
     "output_type": "stream",
     "text": [
      "Artist\n",
      "Zach Bryan                      1 days 21:08:00.430999478\n",
      "Jason Isbell                    0 days 21:44:48.105999877\n",
      "Morgan Wallen                   0 days 12:07:13.965999886\n",
      "Eminem                          0 days 12:02:05.519999939\n",
      "Jason Isbell and the 400 Unit   0 days 10:10:01.312999909\n",
      "Glen Campbell                   0 days 06:54:43.596999891\n",
      "Hank Williams, Jr.              0 days 06:44:25.527999904\n",
      "Jimmy Buffett                   0 days 05:51:43.989999993\n",
      "The White Stripes               0 days 05:21:08.185999937\n",
      "Tyler Childers                  0 days 05:08:06.319999937\n",
      "Name: Duration, dtype: timedelta64[ns]\n"
     ]
    }
   ],
   "source": [
    "# Convert duration from milliseconds to seconds\n",
    "df['Duration'] = df['Duration'] / 1000\n",
    "\n",
    "# Convert duration from seconds to hours\n",
    "df['Duration'] = df['Duration'] / 3600\n",
    "\n",
    "# If you want to convert the duration to a time format (hours:minutes:seconds), you can do this:\n",
    "df['Duration'] = pd.to_timedelta(df['Duration'], unit='h')\n",
    "\n",
    "# Now, when you calculate the total duration for each artist and find the top 10, the durations will be in hours and minutes\n",
    "artist_durations = df.groupby('Artist')['Duration'].sum()\n",
    "top_10_artists = artist_durations.sort_values(ascending=False).head(10)\n",
    "\n",
    "print(top_10_artists)"
   ]
  },
  {
   "cell_type": "code",
   "execution_count": 16,
   "metadata": {},
   "outputs": [
    {
     "name": "stdout",
     "output_type": "stream",
     "text": [
      "The most popular track is 'Cover Me Up' with a total duration of 3 hours and 4 minutes.\n"
     ]
    }
   ],
   "source": [
    "# Group by 'Track' and sum 'Duration' for each track\n",
    "track_durations = df.groupby('Track')['Duration'].sum()\n",
    "\n",
    "# Sort the durations in descending order\n",
    "sorted_tracks = track_durations.sort_values(ascending=False)\n",
    "\n",
    "# Get the most popular track (the first one after sorting)\n",
    "most_popular_track = sorted_tracks.index[0]\n",
    "most_popular_duration = sorted_tracks.iloc[0]\n",
    "\n",
    "# Convert milliseconds to minutes and hours\n",
    "total_seconds = most_popular_duration / 1000\n",
    "total_minutes = total_seconds / 60\n",
    "hours = int(total_minutes // 60)\n",
    "minutes = int(total_minutes % 60)\n",
    "\n",
    "print(f\"The most popular track is '{most_popular_track}' with a total duration of {hours} hours and {minutes} minutes.\")\n"
   ]
  },
  {
   "cell_type": "code",
   "execution_count": 38,
   "metadata": {},
   "outputs": [
    {
     "name": "stdout",
     "output_type": "stream",
     "text": [
      "'Certified (feat. Gunna)' by 'Pooh Shiesty' with a total duration of 0 hours and 1 minutes.\n",
      "'circle the drain' by 'Soccer Mommy' with a total duration of 0 hours and 1 minutes.\n",
      "'Ken Kaniff - Skit' by 'Eminem' with a total duration of 0 hours and 1 minutes.\n",
      "'It's a Man's, Man’s, Man’s World' by 'Jason Isbell and the 400 Unit' with a total duration of 0 hours and 1 minutes.\n",
      "'Don't It Make You Wanna Dance' by 'Rusty Wier' with a total duration of 0 hours and 1 minutes.\n",
      "'This CD Is in Stores' by 'Mitch Hedberg' with a total duration of 0 hours and 1 minutes.\n",
      "'Tayla (every night)' by 'Fred again..' with a total duration of 0 hours and 1 minutes.\n",
      "'Don't Carry It All' by 'The Decemberists' with a total duration of 0 hours and 1 minutes.\n",
      "'5% TINT' by 'Travis Scott' with a total duration of 0 hours and 1 minutes.\n",
      "'Pure Water (with Migos)' by 'Mustard' with a total duration of 0 hours and 1 minutes.\n"
     ]
    }
   ],
   "source": [
    "#These are songs I \"turned off after the first minute \" or \"skipped after the first minute\"\n",
    "# Step 1: Filter out rows where 'Duration' is NaN or <= 0\n",
    "df_filtered_positive = df[(df['Duration'].notna()) & (df['Duration'] >= 60000)]\n",
    "\n",
    "# Step 2: Group by 'Artist' and 'Track' to sum the 'Duration' for each track\n",
    "track_durations_filtered_positive = df_filtered_positive.groupby(['Artist', 'Track'])['Duration'].sum()\n",
    "\n",
    "# Step 3: Sort the durations in ascending order\n",
    "sorted_tracks_filtered_positive = track_durations_filtered_positive.sort_values(ascending=True)\n",
    "\n",
    "# Step 4: Select the first 10 tracks\n",
    "top_10_least_popular_tracks = sorted_tracks_filtered_positive.head(10)\n",
    "\n",
    "# Display the top 10 least popular tracks\n",
    "for (artist, track), duration in top_10_least_popular_tracks.items():\n",
    "    total_seconds = duration / 1000\n",
    "    total_minutes = total_seconds / 60\n",
    "    hours = int(total_minutes // 60)\n",
    "    minutes = int(total_minutes % 60)\n",
    "    print(f\"'{track}' by '{artist}' with a total duration of {hours} hours and {minutes} minutes.\")"
   ]
  }
 ],
 "metadata": {
  "kernelspec": {
   "display_name": "Python 3",
   "language": "python",
   "name": "python3"
  },
  "language_info": {
   "codemirror_mode": {
    "name": "ipython",
    "version": 3
   },
   "file_extension": ".py",
   "mimetype": "text/x-python",
   "name": "python",
   "nbconvert_exporter": "python",
   "pygments_lexer": "ipython3",
   "version": "3.11.0"
  }
 },
 "nbformat": 4,
 "nbformat_minor": 2
}
